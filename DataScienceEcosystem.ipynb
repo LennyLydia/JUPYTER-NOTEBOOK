{
 "cells": [
  {
   "cell_type": "markdown",
   "id": "b5236b41-bfa7-44ce-aa94-6f18c1aa51a1",
   "metadata": {},
   "source": [
    "# Data Science Tools and Ecosystem"
   ]
  },
  {
   "cell_type": "markdown",
   "id": "2dd565c9-2d51-469d-bc03-7ece6a813936",
   "metadata": {},
   "source": [
    "In this notebook, Data Science Tools and Ecosystem are summarized."
   ]
  },
  {
   "cell_type": "markdown",
   "id": "e102ca27-f606-43b8-9a4e-5118ce07e476",
   "metadata": {},
   "source": [
    "**Objectives**\n",
    "- List popular languages for Data Science\n",
    "- Create markdown cells\n",
    "- Create ordered and unordered lists\n",
    "- Create tables\n",
    "- Use of arithmetic expressions\n"
   ]
  },
  {
   "cell_type": "markdown",
   "id": "c5e8bd7f-d5b4-42fb-99f3-6d9360eccfae",
   "metadata": {},
   "source": [
    "Some of the popular languages that Data Scientists use are:\n"
   ]
  },
  {
   "cell_type": "markdown",
   "id": "74445be6-350a-45b6-97e6-39deae49ba17",
   "metadata": {},
   "source": [
    "1. Python\n",
    "2. R\n",
    "3. SQL\n",
    "4. Java\n",
    "5. Scala\n",
    "6. Julia"
   ]
  },
  {
   "cell_type": "markdown",
   "id": "69f536f7-08b9-4026-aceb-0a0a53bea904",
   "metadata": {},
   "source": [
    "Some of the commonly used libraries used by Data Scientists include:"
   ]
  },
  {
   "cell_type": "markdown",
   "id": "fb7efce7-d821-44b2-8755-c5c584ff18b1",
   "metadata": {},
   "source": [
    "1. Matplotlib\n",
    "2. Panda\n",
    "3. Seaborn\n",
    "4. Tensorflow\n",
    "5. Numpy"
   ]
  },
  {
   "cell_type": "markdown",
   "id": "70565780-b324-4fb9-acc0-68cdb23f5b63",
   "metadata": {},
   "source": [
    "|Data Science Tools|\n",
    "|------------------|\n",
    "| R Studio |\n",
    "| Anaconda |\n",
    "| Spyder |"
   ]
  },
  {
   "cell_type": "markdown",
   "id": "95f92158-bd5d-4583-9202-b64bf3a7e263",
   "metadata": {},
   "source": [
    "### Below are a few examples of evaluating arithmetic expressions in Python"
   ]
  },
  {
   "cell_type": "code",
   "execution_count": 1,
   "id": "a4b766ca-e7ed-4eb9-ab9e-4e900ab49211",
   "metadata": {},
   "outputs": [
    {
     "data": {
      "text/plain": [
       "17"
      ]
     },
     "execution_count": 1,
     "metadata": {},
     "output_type": "execute_result"
    }
   ],
   "source": [
    "# This a simple arithmetic expression to mutiply then add integers\n",
    "(3*4)+5"
   ]
  },
  {
   "cell_type": "code",
   "execution_count": 2,
   "id": "94bd2aa5-8b60-4399-9d5e-4221489adc1d",
   "metadata": {},
   "outputs": [
    {
     "data": {
      "text/plain": [
       "3.3333333333333335"
      ]
     },
     "execution_count": 2,
     "metadata": {},
     "output_type": "execute_result"
    }
   ],
   "source": [
    "# This will convert 200 minutes to hours by diving by 60\n",
    "200/60"
   ]
  },
  {
   "cell_type": "markdown",
   "id": "22d82043-e813-4685-8327-99c7c433c2ab",
   "metadata": {},
   "source": [
    "## Author\n",
    "Namubiru Lydia"
   ]
  }
 ],
 "metadata": {
  "kernelspec": {
   "display_name": "Python 3 (ipykernel)",
   "language": "python",
   "name": "python3"
  },
  "language_info": {
   "codemirror_mode": {
    "name": "ipython",
    "version": 3
   },
   "file_extension": ".py",
   "mimetype": "text/x-python",
   "name": "python",
   "nbconvert_exporter": "python",
   "pygments_lexer": "ipython3",
   "version": "3.12.8"
  }
 },
 "nbformat": 4,
 "nbformat_minor": 5
}
